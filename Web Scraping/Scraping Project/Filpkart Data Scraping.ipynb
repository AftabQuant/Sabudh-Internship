{
 "cells": [
  {
   "cell_type": "code",
   "execution_count": 1,
   "id": "9060c5ad-cd10-4877-9731-58822247af63",
   "metadata": {},
   "outputs": [],
   "source": [
    "import requests\n",
    "import pandas as pd\n",
    "from bs4 import BeautifulSoup"
   ]
  },
  {
   "cell_type": "code",
   "execution_count": 2,
   "id": "58b04d15-ca1f-4e78-ab28-e2aa6b34d79f",
   "metadata": {
    "scrolled": true
   },
   "outputs": [
    {
     "name": "stdout",
     "output_type": "stream",
     "text": [
      "<Response [200]>\n"
     ]
    }
   ],
   "source": [
    "url = \"https://www.flipkart.com/search?q=Mobile%20Phone%20Under%2060000&otracker=search&otracker1=search&marketplace=FLIPKART&as-show=on&as=off\"\n",
    "\n",
    "req = requests.get(url)\n",
    "print(req)"
   ]
  },
  {
   "cell_type": "code",
   "execution_count": 3,
   "id": "f3c452bd-adfa-4f9b-9ac9-5f49607a8872",
   "metadata": {},
   "outputs": [],
   "source": [
    "soup = BeautifulSoup(req.content, 'html.parser')\n",
    "# print(soup.prettify())"
   ]
  },
  {
   "cell_type": "code",
   "execution_count": 4,
   "id": "7bb3f683-65d9-4582-b78f-4d6119790a74",
   "metadata": {},
   "outputs": [
    {
     "name": "stdout",
     "output_type": "stream",
     "text": [
      "https://www.flipkart.com/search?q=Mobile+Phone+Under+60000&otracker=search&otracker1=search&marketplace=FLIPKART&as-show=on&as=off&page=1\n",
      "https://www.flipkart.com/search?q=Mobile+Phone+Under+60000&otracker=search&otracker1=search&marketplace=FLIPKART&as-show=on&as=off&page=2\n",
      "https://www.flipkart.com/search?q=Mobile+Phone+Under+60000&otracker=search&otracker1=search&marketplace=FLIPKART&as-show=on&as=off&page=3\n",
      "https://www.flipkart.com/search?q=Mobile+Phone+Under+60000&otracker=search&otracker1=search&marketplace=FLIPKART&as-show=on&as=off&page=4\n",
      "https://www.flipkart.com/search?q=Mobile+Phone+Under+60000&otracker=search&otracker1=search&marketplace=FLIPKART&as-show=on&as=off&page=5\n",
      "https://www.flipkart.com/search?q=Mobile+Phone+Under+60000&otracker=search&otracker1=search&marketplace=FLIPKART&as-show=on&as=off&page=6\n",
      "https://www.flipkart.com/search?q=Mobile+Phone+Under+60000&otracker=search&otracker1=search&marketplace=FLIPKART&as-show=on&as=off&page=7\n"
     ]
    }
   ],
   "source": [
    "# To get all pages link\n",
    "\n",
    "for i in range(2, 9):\n",
    "    url = \"https://www.flipkart.com/search?q=Mobile+Phone+Under+60000&otracker=search&otracker1=search&marketplace=FLIPKART&as-show=on&as=off&page=\"+str(i)\n",
    "    req = requests.get(url)\n",
    "    soup = BeautifulSoup(req.content, 'html.parser')\n",
    "    next_page = soup.find('a', class_ = '_9QVEpD').get('href')\n",
    "    complete_page = \"https://www.flipkart.com\" + next_page\n",
    "    print(complete_page)"
   ]
  },
  {
   "cell_type": "code",
   "execution_count": 5,
   "id": "42420f9a-c8bd-44eb-9165-6dcf3b19b0bb",
   "metadata": {},
   "outputs": [],
   "source": [
    "# Create 4 Empty list to add the script data from web\n",
    "mobile_names = []\n",
    "mobile_prices = []\n",
    "mobile_descriptions = []\n",
    "mobile_ratings = []"
   ]
  },
  {
   "cell_type": "code",
   "execution_count": 6,
   "id": "81c4e1f1-4d65-4447-b376-df0c9defa459",
   "metadata": {},
   "outputs": [],
   "source": [
    "box = soup.find('div', class_ = 'DOjaWF gdgoEp')"
   ]
  },
  {
   "cell_type": "code",
   "execution_count": 7,
   "id": "d8844ba2-239c-4d93-b448-0c244c08a2cf",
   "metadata": {},
   "outputs": [],
   "source": [
    "url = \"https://www.flipkart.com/search?q=Mobile+Phone+Under+60000&otracker=search&otracker1=search&marketplace=FLIPKART&as-show=on&as=off&page=1\""
   ]
  },
  {
   "cell_type": "code",
   "execution_count": 8,
   "id": "1a42e9e7-de6e-4ae0-9e9a-0f1fc7fd9182",
   "metadata": {},
   "outputs": [],
   "source": [
    "mobile_name = box.find_all('div', class_ = 'KzDlHZ')\n",
    "for name in mobile_name:\n",
    "    mobile_names.append(name.text)"
   ]
  },
  {
   "cell_type": "code",
   "execution_count": 9,
   "id": "b1d159eb-025a-4438-93e3-78cd4c95ef11",
   "metadata": {},
   "outputs": [],
   "source": [
    "mobile_price = box.find_all('div', class_ = 'Nx9bqj _4b5DiR')\n",
    "for price in mobile_price:\n",
    "    mobile_prices.append(price.text)"
   ]
  },
  {
   "cell_type": "code",
   "execution_count": 10,
   "id": "9b874063-8958-4664-8e57-8d634e8458f0",
   "metadata": {},
   "outputs": [],
   "source": [
    "mobile_rating = box.find_all('div', class_ = 'XQDdHH')\n",
    "for rating in mobile_rating:\n",
    "    mobile_ratings.append(rating.text)"
   ]
  },
  {
   "cell_type": "code",
   "execution_count": 11,
   "id": "6f8193ed-d489-4d6a-ae84-e17db168152a",
   "metadata": {},
   "outputs": [],
   "source": [
    "mobile_description = box.find_all('ul', class_=\"G4BRas\")\n",
    "for description in mobile_description:\n",
    "    mobile_descriptions.append(description.text)"
   ]
  },
  {
   "cell_type": "code",
   "execution_count": 12,
   "id": "4549acbf-fad0-45ad-bffa-e199b32a9509",
   "metadata": {},
   "outputs": [],
   "source": [
    "# whole data from all links\n",
    "\n",
    "for i in range(2, 14):\n",
    "    url = \"https://www.flipkart.com/search?q=Mobile+Phone+Under+60000&otracker=search&otracker1=search&marketplace=FLIPKART&as-show=on&as=off&page=\"+str(i)\n",
    "    req = requests.get(url)\n",
    "    soup = BeautifulSoup(req.content, 'html.parser')\n",
    "    next_page = soup.find('a', class_ = '_9QVEpD').get('href')\n",
    "    complete_page = \"https://www.flipkart.com\" + next_page\n",
    "    box = soup.find('div', class_ = 'DOjaWF gdgoEp')\n",
    "    \n",
    "    mobile_name = box.find_all('div', class_ = 'KzDlHZ')\n",
    "    for name in mobile_name:\n",
    "        mobile_names.append(name.text)\n",
    "        \n",
    "    mobile_price = box.find_all('div', class_ = 'Nx9bqj _4b5DiR')\n",
    "    for price in mobile_price:\n",
    "        mobile_prices.append(price.text)\n",
    "\n",
    "    mobile_rating = box.find_all('div', class_ = 'XQDdHH')\n",
    "    for rating in mobile_rating:\n",
    "        mobile_ratings.append(rating.text)\n",
    "\n",
    "    mobile_description = box.find_all('ul', class_=\"G4BRas\")\n",
    "    for description in mobile_description:\n",
    "        mobile_descriptions.append(description.text)"
   ]
  },
  {
   "cell_type": "code",
   "execution_count": 19,
   "id": "703139d5-64fe-46b7-acb1-4cf9cd68964c",
   "metadata": {},
   "outputs": [
    {
     "name": "stdout",
     "output_type": "stream",
     "text": [
      "312\n",
      "312\n",
      "312\n",
      "312\n"
     ]
    }
   ],
   "source": [
    "print(len(mobile_names))\n",
    "print(len(mobile_prices))\n",
    "print(len(mobile_ratings))\n",
    "print(len(mobile_descriptions))"
   ]
  },
  {
   "cell_type": "code",
   "execution_count": 20,
   "id": "22366333-db2f-415e-b176-d39ab6c32f08",
   "metadata": {},
   "outputs": [],
   "source": [
    "df = pd.DataFrame({'mobile_name': mobile_names, 'mobile_price': mobile_prices, 'mobile_rating':mobile_ratings, 'mobile_description':mobile_descriptions})"
   ]
  },
  {
   "cell_type": "code",
   "execution_count": 21,
   "id": "515f00a5-4156-4a77-9369-189c14a2ca9b",
   "metadata": {},
   "outputs": [
    {
     "data": {
      "text/html": [
       "<div>\n",
       "<style scoped>\n",
       "    .dataframe tbody tr th:only-of-type {\n",
       "        vertical-align: middle;\n",
       "    }\n",
       "\n",
       "    .dataframe tbody tr th {\n",
       "        vertical-align: top;\n",
       "    }\n",
       "\n",
       "    .dataframe thead th {\n",
       "        text-align: right;\n",
       "    }\n",
       "</style>\n",
       "<table border=\"1\" class=\"dataframe\">\n",
       "  <thead>\n",
       "    <tr style=\"text-align: right;\">\n",
       "      <th></th>\n",
       "      <th>mobile_name</th>\n",
       "      <th>mobile_price</th>\n",
       "      <th>mobile_rating</th>\n",
       "      <th>mobile_description</th>\n",
       "    </tr>\n",
       "  </thead>\n",
       "  <tbody>\n",
       "    <tr>\n",
       "      <th>0</th>\n",
       "      <td>SAMSUNG Galaxy A15 5G (Blue, 128 GB)</td>\n",
       "      <td>₹16,990</td>\n",
       "      <td>4.3</td>\n",
       "      <td>8 GB RAM | 128 GB ROM | Expandable Upto 1 TB16...</td>\n",
       "    </tr>\n",
       "    <tr>\n",
       "      <th>1</th>\n",
       "      <td>REDMI 13 5G (Black Diamond, 128 GB)</td>\n",
       "      <td>₹12,083</td>\n",
       "      <td>4.3</td>\n",
       "      <td>6 GB RAM | 128 GB ROM17.25 cm (6.79 inch) Full...</td>\n",
       "    </tr>\n",
       "    <tr>\n",
       "      <th>2</th>\n",
       "      <td>SAMSUNG Galaxy F15 5G (Ash Black, 128 GB)</td>\n",
       "      <td>₹13,499</td>\n",
       "      <td>4.2</td>\n",
       "      <td>6 GB RAM | 128 GB ROM | Expandable Upto 1 TB16...</td>\n",
       "    </tr>\n",
       "    <tr>\n",
       "      <th>3</th>\n",
       "      <td>Nothing Phone (2a) 5G (Black, 256 GB)</td>\n",
       "      <td>₹25,999</td>\n",
       "      <td>4.4</td>\n",
       "      <td>12 GB RAM | 256 GB ROM17.02 cm (6.7 inch) Full...</td>\n",
       "    </tr>\n",
       "    <tr>\n",
       "      <th>4</th>\n",
       "      <td>POCO C65 (Pastel Blue, 128 GB)</td>\n",
       "      <td>₹9,499</td>\n",
       "      <td>4.3</td>\n",
       "      <td>6 GB RAM | 128 GB ROM | Expandable Upto 1 TB17...</td>\n",
       "    </tr>\n",
       "  </tbody>\n",
       "</table>\n",
       "</div>"
      ],
      "text/plain": [
       "                                 mobile_name mobile_price mobile_rating  \\\n",
       "0       SAMSUNG Galaxy A15 5G (Blue, 128 GB)      ₹16,990           4.3   \n",
       "1        REDMI 13 5G (Black Diamond, 128 GB)      ₹12,083           4.3   \n",
       "2  SAMSUNG Galaxy F15 5G (Ash Black, 128 GB)      ₹13,499           4.2   \n",
       "3      Nothing Phone (2a) 5G (Black, 256 GB)      ₹25,999           4.4   \n",
       "4             POCO C65 (Pastel Blue, 128 GB)       ₹9,499           4.3   \n",
       "\n",
       "                                  mobile_description  \n",
       "0  8 GB RAM | 128 GB ROM | Expandable Upto 1 TB16...  \n",
       "1  6 GB RAM | 128 GB ROM17.25 cm (6.79 inch) Full...  \n",
       "2  6 GB RAM | 128 GB ROM | Expandable Upto 1 TB16...  \n",
       "3  12 GB RAM | 256 GB ROM17.02 cm (6.7 inch) Full...  \n",
       "4  6 GB RAM | 128 GB ROM | Expandable Upto 1 TB17...  "
      ]
     },
     "execution_count": 21,
     "metadata": {},
     "output_type": "execute_result"
    }
   ],
   "source": [
    "df.head()"
   ]
  },
  {
   "cell_type": "code",
   "execution_count": 22,
   "id": "173b7d9b-197d-4803-9461-a878facb3bfa",
   "metadata": {},
   "outputs": [
    {
     "data": {
      "text/plain": [
       "(312, 4)"
      ]
     },
     "execution_count": 22,
     "metadata": {},
     "output_type": "execute_result"
    }
   ],
   "source": [
    "df.shape"
   ]
  },
  {
   "cell_type": "code",
   "execution_count": 23,
   "id": "0c960ae1-2f24-4df8-8992-9c6157b9212c",
   "metadata": {},
   "outputs": [],
   "source": [
    "# To save the dataframe in csv\n",
    "\n",
    "df.to_csv('Filpkart Scraping Data.csv')"
   ]
  },
  {
   "cell_type": "code",
   "execution_count": null,
   "id": "becf8471-b1c4-4a9a-9863-2de75219919a",
   "metadata": {},
   "outputs": [],
   "source": []
  }
 ],
 "metadata": {
  "kernelspec": {
   "display_name": "Python 3 (ipykernel)",
   "language": "python",
   "name": "python3"
  },
  "language_info": {
   "codemirror_mode": {
    "name": "ipython",
    "version": 3
   },
   "file_extension": ".py",
   "mimetype": "text/x-python",
   "name": "python",
   "nbconvert_exporter": "python",
   "pygments_lexer": "ipython3",
   "version": "3.13.0"
  },
  "widgets": {
   "application/vnd.jupyter.widget-state+json": {
    "state": {},
    "version_major": 2,
    "version_minor": 0
   }
  }
 },
 "nbformat": 4,
 "nbformat_minor": 5
}
