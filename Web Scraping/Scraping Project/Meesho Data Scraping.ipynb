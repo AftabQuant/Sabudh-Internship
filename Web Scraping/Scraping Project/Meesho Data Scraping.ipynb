{
 "cells": [
  {
   "cell_type": "code",
   "execution_count": 1,
   "id": "e8d447d3-4131-4e6a-93d6-7abbe1ebe865",
   "metadata": {},
   "outputs": [],
   "source": [
    "import requests\n",
    "import pandas as pd\n",
    "from bs4 import BeautifulSoup"
   ]
  },
  {
   "cell_type": "code",
   "execution_count": 3,
   "id": "0a0f43e5-6887-4027-bb6d-69df5097c7fa",
   "metadata": {},
   "outputs": [
    {
     "name": "stdout",
     "output_type": "stream",
     "text": [
      "<Response [200]>\n"
     ]
    }
   ],
   "source": [
    "url = \"https://www.meesho.com/shirts-men/pl/3jq\"\n",
    "req = requests.get(url)\n",
    "print(req)"
   ]
  },
  {
   "cell_type": "code",
   "execution_count": 5,
   "id": "df68799f-989b-47ae-ba4b-d1f91c95f9b9",
   "metadata": {},
   "outputs": [],
   "source": [
    "soup = BeautifulSoup(req.content, 'html.parser')\n",
    "# print(soup.prettify())"
   ]
  },
  {
   "cell_type": "code",
   "execution_count": 7,
   "id": "21c54039-70b3-4bba-beec-f6ffc1f44eb6",
   "metadata": {},
   "outputs": [
    {
     "name": "stdout",
     "output_type": "stream",
     "text": [
      "Urbane Fabulous Men Shirts --- Trendy Retro Men Shirts --- Fatty Mouse Men's Shirts --- Stylish Partywear Men Shirts --- Comfy Sensational Men Shirts --- Classy Partywear Men Shirts --- Ethnic Stylish Premium Cotton Printed Men's Shirts Vol 4 --- Trendy Designer Men Shirts --- STI Men's Shirts --- Fancy Ravishing Men Shirts --- Stylish Graceful Men Shirts --- Pretty Ravishing Men Shirts --- Trendy Fabulous Men Shirts --- Stylish Glamorous Men Shirts --- Trendy Latest Men Shirts --- Trendy Latest Men Shirts --- Urbane Designer Men Shirts --- Urbane Modern Men Shirts --- Stylish Partywear Men Shirts --- Comfy Partywear Men Shirts --- "
     ]
    }
   ],
   "source": [
    "all_paragraph = soup.find_all('p', class_='sc-eDvSVe gQDOBc NewProductCardstyled__StyledDesktopProductTitle-sc-6y2tys-5 ejhQZU NewProductCardstyled__StyledDesktopProductTitle-sc-6y2tys-5 ejhQZU')\n",
    "for para in all_paragraph:\n",
    "    print(para.text, end=\" --- \")\n",
    "\n",
    "print()"
   ]
  },
  {
   "cell_type": "code",
   "execution_count": null,
   "id": "f0109f22-29cb-47bc-94f9-3f6701aaf900",
   "metadata": {},
   "outputs": [],
   "source": []
  }
 ],
 "metadata": {
  "kernelspec": {
   "display_name": "Python 3 (ipykernel)",
   "language": "python",
   "name": "python3"
  },
  "language_info": {
   "codemirror_mode": {
    "name": "ipython",
    "version": 3
   },
   "file_extension": ".py",
   "mimetype": "text/x-python",
   "name": "python",
   "nbconvert_exporter": "python",
   "pygments_lexer": "ipython3",
   "version": "3.13.0"
  },
  "widgets": {
   "application/vnd.jupyter.widget-state+json": {
    "state": {},
    "version_major": 2,
    "version_minor": 0
   }
  }
 },
 "nbformat": 4,
 "nbformat_minor": 5
}
