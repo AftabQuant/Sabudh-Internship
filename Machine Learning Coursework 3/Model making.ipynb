{
 "cells": [
  {
   "cell_type": "code",
   "execution_count": 1,
   "id": "b5229b95-2662-41b6-a417-156c26df02fc",
   "metadata": {},
   "outputs": [],
   "source": [
    "import numpy as np\n",
    "import pandas as pd\n",
    "import matplotlib.pyplot as plt\n",
    "import seaborn as sns\n",
    "import warnings\n",
    "\n",
    "warnings.filterwarnings('ignore')"
   ]
  },
  {
   "cell_type": "code",
   "execution_count": 2,
   "id": "10e32e4b-784c-467a-aeba-1f6501800ecb",
   "metadata": {},
   "outputs": [
    {
     "data": {
      "text/html": [
       "<div>\n",
       "<style scoped>\n",
       "    .dataframe tbody tr th:only-of-type {\n",
       "        vertical-align: middle;\n",
       "    }\n",
       "\n",
       "    .dataframe tbody tr th {\n",
       "        vertical-align: top;\n",
       "    }\n",
       "\n",
       "    .dataframe thead th {\n",
       "        text-align: right;\n",
       "    }\n",
       "</style>\n",
       "<table border=\"1\" class=\"dataframe\">\n",
       "  <thead>\n",
       "    <tr style=\"text-align: right;\">\n",
       "      <th></th>\n",
       "      <th>name</th>\n",
       "      <th>club</th>\n",
       "      <th>age</th>\n",
       "      <th>position</th>\n",
       "      <th>position_cat</th>\n",
       "      <th>market_value</th>\n",
       "      <th>page_views</th>\n",
       "      <th>fpl_value</th>\n",
       "      <th>fpl_sel</th>\n",
       "      <th>fpl_points</th>\n",
       "      <th>region</th>\n",
       "      <th>nationality</th>\n",
       "      <th>new_foreign</th>\n",
       "      <th>age_cat</th>\n",
       "      <th>club_id</th>\n",
       "      <th>big_club</th>\n",
       "      <th>new_signing</th>\n",
       "    </tr>\n",
       "  </thead>\n",
       "  <tbody>\n",
       "    <tr>\n",
       "      <th>0</th>\n",
       "      <td>Alexis Sanchez</td>\n",
       "      <td>Arsenal</td>\n",
       "      <td>28</td>\n",
       "      <td>LW</td>\n",
       "      <td>1</td>\n",
       "      <td>65.0</td>\n",
       "      <td>4329</td>\n",
       "      <td>12.0</td>\n",
       "      <td>17.10%</td>\n",
       "      <td>264</td>\n",
       "      <td>3.0</td>\n",
       "      <td>Chile</td>\n",
       "      <td>0</td>\n",
       "      <td>4</td>\n",
       "      <td>1</td>\n",
       "      <td>1</td>\n",
       "      <td>0</td>\n",
       "    </tr>\n",
       "    <tr>\n",
       "      <th>1</th>\n",
       "      <td>Mesut Ozil</td>\n",
       "      <td>Arsenal</td>\n",
       "      <td>28</td>\n",
       "      <td>AM</td>\n",
       "      <td>1</td>\n",
       "      <td>50.0</td>\n",
       "      <td>4395</td>\n",
       "      <td>9.5</td>\n",
       "      <td>5.60%</td>\n",
       "      <td>167</td>\n",
       "      <td>2.0</td>\n",
       "      <td>Germany</td>\n",
       "      <td>0</td>\n",
       "      <td>4</td>\n",
       "      <td>1</td>\n",
       "      <td>1</td>\n",
       "      <td>0</td>\n",
       "    </tr>\n",
       "  </tbody>\n",
       "</table>\n",
       "</div>"
      ],
      "text/plain": [
       "             name     club  age position  position_cat  market_value  \\\n",
       "0  Alexis Sanchez  Arsenal   28       LW             1          65.0   \n",
       "1      Mesut Ozil  Arsenal   28       AM             1          50.0   \n",
       "\n",
       "   page_views  fpl_value fpl_sel  fpl_points  region nationality  new_foreign  \\\n",
       "0        4329       12.0  17.10%         264     3.0       Chile            0   \n",
       "1        4395        9.5   5.60%         167     2.0     Germany            0   \n",
       "\n",
       "   age_cat  club_id  big_club  new_signing  \n",
       "0        4        1         1            0  \n",
       "1        4        1         1            0  "
      ]
     },
     "execution_count": 2,
     "metadata": {},
     "output_type": "execute_result"
    }
   ],
   "source": [
    "df = pd.read_csv(r\"D:\\Ultimate Programming\\Data Bases\\Project Dataset\\price of a Football player.csv\")\n",
    "df.head(2)"
   ]
  },
  {
   "cell_type": "code",
   "execution_count": 3,
   "id": "466d83f8-d75b-4e7f-b829-77c319a29456",
   "metadata": {},
   "outputs": [],
   "source": [
    "df['market_value'] = df.pop('market_value')\n",
    "\n",
    "q1 = df['page_views'].quantile(0.25)\n",
    "q3 = df['page_views'].quantile(0.75)\n",
    "iqr = q3 - q1\n",
    "min_range = q1 - iqr*1.5\n",
    "max_range = q3 + iqr*1.5\n",
    "\n",
    "df = df[df['page_views']<max_range]"
   ]
  },
  {
   "cell_type": "code",
   "execution_count": 4,
   "id": "4870f9ca-0d06-43aa-9e3c-5e5bd5a088bd",
   "metadata": {},
   "outputs": [
    {
     "data": {
      "text/html": [
       "<div>\n",
       "<style scoped>\n",
       "    .dataframe tbody tr th:only-of-type {\n",
       "        vertical-align: middle;\n",
       "    }\n",
       "\n",
       "    .dataframe tbody tr th {\n",
       "        vertical-align: top;\n",
       "    }\n",
       "\n",
       "    .dataframe thead th {\n",
       "        text-align: right;\n",
       "    }\n",
       "</style>\n",
       "<table border=\"1\" class=\"dataframe\">\n",
       "  <thead>\n",
       "    <tr style=\"text-align: right;\">\n",
       "      <th></th>\n",
       "      <th>name</th>\n",
       "      <th>club</th>\n",
       "      <th>age</th>\n",
       "      <th>position</th>\n",
       "      <th>position_cat</th>\n",
       "      <th>page_views</th>\n",
       "      <th>fpl_value</th>\n",
       "      <th>fpl_sel</th>\n",
       "      <th>fpl_points</th>\n",
       "      <th>region</th>\n",
       "      <th>nationality</th>\n",
       "      <th>new_foreign</th>\n",
       "      <th>age_cat</th>\n",
       "      <th>club_id</th>\n",
       "      <th>big_club</th>\n",
       "      <th>new_signing</th>\n",
       "      <th>market_value</th>\n",
       "    </tr>\n",
       "  </thead>\n",
       "  <tbody>\n",
       "    <tr>\n",
       "      <th>2</th>\n",
       "      <td>Petr Cech</td>\n",
       "      <td>Arsenal</td>\n",
       "      <td>35</td>\n",
       "      <td>GK</td>\n",
       "      <td>4</td>\n",
       "      <td>1529</td>\n",
       "      <td>5.5</td>\n",
       "      <td>5.90%</td>\n",
       "      <td>134</td>\n",
       "      <td>2.0</td>\n",
       "      <td>Czech Republic</td>\n",
       "      <td>0</td>\n",
       "      <td>6</td>\n",
       "      <td>1</td>\n",
       "      <td>1</td>\n",
       "      <td>0</td>\n",
       "      <td>7.0</td>\n",
       "    </tr>\n",
       "    <tr>\n",
       "      <th>4</th>\n",
       "      <td>Laurent Koscielny</td>\n",
       "      <td>Arsenal</td>\n",
       "      <td>31</td>\n",
       "      <td>CB</td>\n",
       "      <td>3</td>\n",
       "      <td>912</td>\n",
       "      <td>6.0</td>\n",
       "      <td>0.70%</td>\n",
       "      <td>121</td>\n",
       "      <td>2.0</td>\n",
       "      <td>France</td>\n",
       "      <td>0</td>\n",
       "      <td>4</td>\n",
       "      <td>1</td>\n",
       "      <td>1</td>\n",
       "      <td>0</td>\n",
       "      <td>22.0</td>\n",
       "    </tr>\n",
       "    <tr>\n",
       "      <th>5</th>\n",
       "      <td>Hector Bellerin</td>\n",
       "      <td>Arsenal</td>\n",
       "      <td>22</td>\n",
       "      <td>RB</td>\n",
       "      <td>3</td>\n",
       "      <td>1675</td>\n",
       "      <td>6.0</td>\n",
       "      <td>13.70%</td>\n",
       "      <td>119</td>\n",
       "      <td>2.0</td>\n",
       "      <td>Spain</td>\n",
       "      <td>0</td>\n",
       "      <td>2</td>\n",
       "      <td>1</td>\n",
       "      <td>1</td>\n",
       "      <td>0</td>\n",
       "      <td>30.0</td>\n",
       "    </tr>\n",
       "  </tbody>\n",
       "</table>\n",
       "</div>"
      ],
      "text/plain": [
       "                name     club  age position  position_cat  page_views  \\\n",
       "2          Petr Cech  Arsenal   35       GK             4        1529   \n",
       "4  Laurent Koscielny  Arsenal   31       CB             3         912   \n",
       "5    Hector Bellerin  Arsenal   22       RB             3        1675   \n",
       "\n",
       "   fpl_value fpl_sel  fpl_points  region     nationality  new_foreign  \\\n",
       "2        5.5   5.90%         134     2.0  Czech Republic            0   \n",
       "4        6.0   0.70%         121     2.0          France            0   \n",
       "5        6.0  13.70%         119     2.0           Spain            0   \n",
       "\n",
       "   age_cat  club_id  big_club  new_signing  market_value  \n",
       "2        6        1         1            0           7.0  \n",
       "4        4        1         1            0          22.0  \n",
       "5        2        1         1            0          30.0  "
      ]
     },
     "execution_count": 4,
     "metadata": {},
     "output_type": "execute_result"
    }
   ],
   "source": [
    "df.head(3)"
   ]
  },
  {
   "cell_type": "code",
   "execution_count": null,
   "id": "d2109d0d-4bfa-41f7-a389-4d11ba9ea58f",
   "metadata": {},
   "outputs": [],
   "source": []
  },
  {
   "cell_type": "code",
   "execution_count": 5,
   "id": "bfe2f6e5-a7a6-4853-8c76-3493a7feda6d",
   "metadata": {},
   "outputs": [],
   "source": [
    "# Encoding the dataset\n",
    "from sklearn.preprocessing import LabelEncoder\n",
    "name = df.drop('name', axis=1, inplace=True)\n",
    "le = LabelEncoder()\n",
    "for col in df.select_dtypes(include='object').columns:\n",
    "    df[col] = le.fit_transform(df[col])"
   ]
  },
  {
   "cell_type": "code",
   "execution_count": 6,
   "id": "9ff78acc-9b10-43c2-9f71-77f405861f96",
   "metadata": {},
   "outputs": [],
   "source": [
    "from sklearn.preprocessing import StandardScaler\n",
    "\n",
    "ss = StandardScaler()\n",
    "for col in df.select_dtypes(include=['int64', 'float64']).columns :\n",
    "    df[col] = ss.fit_transform(df[[col]])"
   ]
  },
  {
   "cell_type": "code",
   "execution_count": 7,
   "id": "663af9e0-64c7-46a8-9d21-30087b3bfcea",
   "metadata": {},
   "outputs": [],
   "source": [
    "df['region'] = df['region'].fillna(df['region'].mean())"
   ]
  },
  {
   "cell_type": "code",
   "execution_count": 8,
   "id": "b4ad4f6d-e8e1-4b2c-a779-7e393a6b716f",
   "metadata": {},
   "outputs": [
    {
     "data": {
      "text/plain": [
       "club            0\n",
       "age             0\n",
       "position        0\n",
       "position_cat    0\n",
       "page_views      0\n",
       "fpl_value       0\n",
       "fpl_sel         0\n",
       "fpl_points      0\n",
       "region          0\n",
       "nationality     0\n",
       "new_foreign     0\n",
       "age_cat         0\n",
       "club_id         0\n",
       "big_club        0\n",
       "new_signing     0\n",
       "market_value    0\n",
       "dtype: int64"
      ]
     },
     "execution_count": 8,
     "metadata": {},
     "output_type": "execute_result"
    }
   ],
   "source": [
    "df.isnull().sum()"
   ]
  },
  {
   "cell_type": "code",
   "execution_count": 9,
   "id": "dfcb045f-61a9-4e74-aaf5-26ab5bc76957",
   "metadata": {},
   "outputs": [],
   "source": [
    "from sklearn.linear_model import LinearRegression, Lasso, Ridge\n",
    "from sklearn.neighbors import KNeighborsRegressor\n",
    "from sklearn.svm import SVR\n",
    "from sklearn.tree import DecisionTreeRegressor\n",
    "from sklearn.ensemble import RandomForestRegressor, GradientBoostingRegressor\n",
    "from sklearn.metrics import mean_absolute_error, mean_squared_error, r2_score"
   ]
  },
  {
   "cell_type": "code",
   "execution_count": 10,
   "id": "cf8373fa-bbc3-4381-9af5-c2db74103e3b",
   "metadata": {},
   "outputs": [],
   "source": [
    "lr = LinearRegression()\n",
    "knr = KNeighborsRegressor()\n",
    "svm = SVR()\n",
    "dt = DecisionTreeRegressor()\n",
    "rf = RandomForestRegressor()\n",
    "gb = GradientBoostingRegressor()"
   ]
  },
  {
   "cell_type": "code",
   "execution_count": 11,
   "id": "75b7ed72-0248-496b-9d95-f7d7108c8632",
   "metadata": {},
   "outputs": [],
   "source": [
    "regressions = {\n",
    "    'SVC' : svm,\n",
    "    'KN' : knr,  \n",
    "    'DT': dt, \n",
    "    'LR': lr, \n",
    "    'RF': rf, \n",
    "    'GbBoost': gb\n",
    "}"
   ]
  },
  {
   "cell_type": "code",
   "execution_count": 12,
   "id": "328a6510-0ca1-4e45-94a3-4bc1fc3cf0b5",
   "metadata": {},
   "outputs": [],
   "source": [
    "from sklearn.metrics import mean_squared_error, mean_absolute_error, r2_score\n",
    "\n",
    "def train_regression(reg, x_train, x_test, y_train, y_test):\n",
    "    reg.fit(x_train, y_train)\n",
    "    y_pred = reg.predict(x_test)\n",
    "    mse = mean_squared_error(y_test, y_pred) * 100\n",
    "    mae = mean_absolute_error(y_test, y_pred) * 100\n",
    "    r_score = r2_score(y_test, y_pred) * 100\n",
    "    return mse, mae, r_score  "
   ]
  },
  {
   "cell_type": "code",
   "execution_count": 13,
   "id": "dd75f4eb-a8f6-4993-9c85-f2756543e08a",
   "metadata": {},
   "outputs": [],
   "source": [
    "x = df.iloc[: ,:-1]\n",
    "y = df['market_value']"
   ]
  },
  {
   "cell_type": "code",
   "execution_count": 14,
   "id": "8c4b62b0-8039-4594-a5f0-68dcd85d4830",
   "metadata": {},
   "outputs": [
    {
     "name": "stdout",
     "output_type": "stream",
     "text": [
      "(423, 15) (423,)\n"
     ]
    }
   ],
   "source": [
    "print(x.shape, y.shape)"
   ]
  },
  {
   "cell_type": "code",
   "execution_count": 15,
   "id": "5b0690c1-bcb1-435f-98a1-e6179905ee8d",
   "metadata": {},
   "outputs": [],
   "source": [
    "from sklearn.model_selection import train_test_split"
   ]
  },
  {
   "cell_type": "code",
   "execution_count": 16,
   "id": "7b67f5a0-dd54-43b9-a11b-db55fc95f56c",
   "metadata": {},
   "outputs": [],
   "source": [
    "x_train, x_test, y_train, y_test = train_test_split(x, y, test_size=0.2)"
   ]
  },
  {
   "cell_type": "code",
   "execution_count": 17,
   "id": "84b60b06-57e9-4eac-ae9e-7a9d8b50d103",
   "metadata": {},
   "outputs": [
    {
     "data": {
      "text/plain": [
       "(31.490852393744508, 38.89097790576891, 49.13834358286435)"
      ]
     },
     "execution_count": 17,
     "metadata": {},
     "output_type": "execute_result"
    }
   ],
   "source": [
    "train_regression(lr, x_train, x_test, y_train, y_test)"
   ]
  },
  {
   "cell_type": "code",
   "execution_count": 19,
   "id": "470814f5-fccd-4bc4-b4f6-b2913b5e6dcd",
   "metadata": {},
   "outputs": [
    {
     "name": "stdout",
     "output_type": "stream",
     "text": [
      "For SVC:, mse - 22.57, mae - 33.57, r2 - 63.55\n",
      "For KN:, mse - 28.88, mae - 38.71, r2 - 53.36\n",
      "For DT:, mse - 42.03, mae - 40.38, r2 - 32.11\n",
      "For LR:, mse - 31.49, mae - 38.89, r2 - 49.14\n",
      "For RF:, mse - 24.25, mae - 34.54, r2 - 60.84\n",
      "For GbBoost:, mse - 20.30, mae - 31.86, r2 - 67.22\n"
     ]
    }
   ],
   "source": [
    "for name, reg in regressions.items():\n",
    "    mse, mae, r2 = train_regression(reg, x_train, x_test, y_train, y_test)\n",
    "    print(f\"For {name}:, mse - {mse:.2f}, mae - {mae:.2f}, r2 - {r2:.2f}\")"
   ]
  }
 ],
 "metadata": {
  "kernelspec": {
   "display_name": "Python 3 (ipykernel)",
   "language": "python",
   "name": "python3"
  },
  "language_info": {
   "codemirror_mode": {
    "name": "ipython",
    "version": 3
   },
   "file_extension": ".py",
   "mimetype": "text/x-python",
   "name": "python",
   "nbconvert_exporter": "python",
   "pygments_lexer": "ipython3",
   "version": "3.13.0"
  },
  "widgets": {
   "application/vnd.jupyter.widget-state+json": {
    "state": {},
    "version_major": 2,
    "version_minor": 0
   }
  }
 },
 "nbformat": 4,
 "nbformat_minor": 5
}
