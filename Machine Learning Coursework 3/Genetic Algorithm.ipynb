{
 "cells": [
  {
   "cell_type": "code",
   "execution_count": 1,
   "id": "7208eaa9-2c1c-4cd4-ad77-9f0d54373ede",
   "metadata": {},
   "outputs": [],
   "source": [
    "import numpy as np\n",
    "import pandas as pd\n",
    "import matplotlib.pyplot as plt\n",
    "import seaborn as sns\n",
    "import warnings\n",
    "\n",
    "warnings.filterwarnings('ignore')"
   ]
  },
  {
   "cell_type": "code",
   "execution_count": 2,
   "id": "09845a56-8c14-40f3-9c15-349785f66690",
   "metadata": {},
   "outputs": [
    {
     "data": {
      "text/html": [
       "<div>\n",
       "<style scoped>\n",
       "    .dataframe tbody tr th:only-of-type {\n",
       "        vertical-align: middle;\n",
       "    }\n",
       "\n",
       "    .dataframe tbody tr th {\n",
       "        vertical-align: top;\n",
       "    }\n",
       "\n",
       "    .dataframe thead th {\n",
       "        text-align: right;\n",
       "    }\n",
       "</style>\n",
       "<table border=\"1\" class=\"dataframe\">\n",
       "  <thead>\n",
       "    <tr style=\"text-align: right;\">\n",
       "      <th></th>\n",
       "      <th>name</th>\n",
       "      <th>club</th>\n",
       "      <th>age</th>\n",
       "      <th>position</th>\n",
       "      <th>position_cat</th>\n",
       "      <th>market_value</th>\n",
       "      <th>page_views</th>\n",
       "      <th>fpl_value</th>\n",
       "      <th>fpl_sel</th>\n",
       "      <th>fpl_points</th>\n",
       "      <th>region</th>\n",
       "      <th>nationality</th>\n",
       "      <th>new_foreign</th>\n",
       "      <th>age_cat</th>\n",
       "      <th>club_id</th>\n",
       "      <th>big_club</th>\n",
       "      <th>new_signing</th>\n",
       "    </tr>\n",
       "  </thead>\n",
       "  <tbody>\n",
       "    <tr>\n",
       "      <th>0</th>\n",
       "      <td>Alexis Sanchez</td>\n",
       "      <td>Arsenal</td>\n",
       "      <td>28</td>\n",
       "      <td>LW</td>\n",
       "      <td>1</td>\n",
       "      <td>65.0</td>\n",
       "      <td>4329</td>\n",
       "      <td>12.0</td>\n",
       "      <td>17.10%</td>\n",
       "      <td>264</td>\n",
       "      <td>3.0</td>\n",
       "      <td>Chile</td>\n",
       "      <td>0</td>\n",
       "      <td>4</td>\n",
       "      <td>1</td>\n",
       "      <td>1</td>\n",
       "      <td>0</td>\n",
       "    </tr>\n",
       "    <tr>\n",
       "      <th>1</th>\n",
       "      <td>Mesut Ozil</td>\n",
       "      <td>Arsenal</td>\n",
       "      <td>28</td>\n",
       "      <td>AM</td>\n",
       "      <td>1</td>\n",
       "      <td>50.0</td>\n",
       "      <td>4395</td>\n",
       "      <td>9.5</td>\n",
       "      <td>5.60%</td>\n",
       "      <td>167</td>\n",
       "      <td>2.0</td>\n",
       "      <td>Germany</td>\n",
       "      <td>0</td>\n",
       "      <td>4</td>\n",
       "      <td>1</td>\n",
       "      <td>1</td>\n",
       "      <td>0</td>\n",
       "    </tr>\n",
       "  </tbody>\n",
       "</table>\n",
       "</div>"
      ],
      "text/plain": [
       "             name     club  age position  position_cat  market_value  \\\n",
       "0  Alexis Sanchez  Arsenal   28       LW             1          65.0   \n",
       "1      Mesut Ozil  Arsenal   28       AM             1          50.0   \n",
       "\n",
       "   page_views  fpl_value fpl_sel  fpl_points  region nationality  new_foreign  \\\n",
       "0        4329       12.0  17.10%         264     3.0       Chile            0   \n",
       "1        4395        9.5   5.60%         167     2.0     Germany            0   \n",
       "\n",
       "   age_cat  club_id  big_club  new_signing  \n",
       "0        4        1         1            0  \n",
       "1        4        1         1            0  "
      ]
     },
     "execution_count": 2,
     "metadata": {},
     "output_type": "execute_result"
    }
   ],
   "source": [
    "df = pd.read_csv(r\"D:\\Ultimate Programming\\Data Bases\\Project Dataset\\price of a Football player.csv\")\n",
    "df.head(2)"
   ]
  },
  {
   "cell_type": "code",
   "execution_count": 3,
   "id": "35abdb2b-1381-4a72-865d-d3ec9f8e686c",
   "metadata": {},
   "outputs": [],
   "source": [
    "df['market_value'] = df.pop('market_value')\n",
    "\n",
    "q1 = df['page_views'].quantile(0.25)\n",
    "q3 = df['page_views'].quantile(0.75)\n",
    "iqr = q3 - q1\n",
    "min_range = q1 - iqr*1.5\n",
    "max_range = q3 + iqr*1.5\n",
    "\n",
    "df = df[df['page_views']<max_range]"
   ]
  },
  {
   "cell_type": "code",
   "execution_count": 4,
   "id": "d39b2d07-14ee-486c-89c1-43c12453b629",
   "metadata": {},
   "outputs": [],
   "source": [
    "# Encoding the dataset\n",
    "from sklearn.preprocessing import LabelEncoder\n",
    "name = df.drop('name', axis=1, inplace=True)\n",
    "le = LabelEncoder()\n",
    "for col in df.select_dtypes(include='object').columns:\n",
    "    df[col] = le.fit_transform(df[col])"
   ]
  },
  {
   "cell_type": "code",
   "execution_count": 5,
   "id": "05844bd1-4e21-4770-938f-10b9d80e18c8",
   "metadata": {},
   "outputs": [],
   "source": [
    "from sklearn.preprocessing import StandardScaler\n",
    "\n",
    "ss = StandardScaler()\n",
    "for col in df.select_dtypes(include=['int64', 'float64']).columns :\n",
    "    df[col] = ss.fit_transform(df[[col]])"
   ]
  },
  {
   "cell_type": "code",
   "execution_count": 6,
   "id": "362f3a41-6536-4b62-8059-8d254575d2cf",
   "metadata": {},
   "outputs": [],
   "source": [
    "df['region'] = df['region'].fillna(df['region'].mean())"
   ]
  },
  {
   "cell_type": "code",
   "execution_count": 7,
   "id": "52764cc9-1d82-48af-bebb-c25efec61fbb",
   "metadata": {},
   "outputs": [],
   "source": [
    "x = df.iloc[:, :-1]\n",
    "y = df['market_value']"
   ]
  },
  {
   "cell_type": "code",
   "execution_count": 8,
   "id": "00c37993-1a7b-48c6-9f1c-dc17189674f5",
   "metadata": {},
   "outputs": [],
   "source": [
    "from sklearn.model_selection import train_test_split\n",
    "x_train, x_test, y_train, y_test = train_test_split(x, y, test_size=0.2)"
   ]
  },
  {
   "cell_type": "code",
   "execution_count": 13,
   "id": "eb7ccb8d-7180-430a-892a-5e09272af863",
   "metadata": {},
   "outputs": [
    {
     "name": "stdout",
     "output_type": "stream",
     "text": [
      "Optimized Weights: [0.17600689 0.22100595 0.22417105 0.02696349 0.67028463 0.51349374\n",
      " 0.35835546 0.82115326 0.62446584 0.16203144 0.48524767 0.92420456\n",
      " 0.56414426 0.452387   0.41121152]\n"
     ]
    }
   ],
   "source": [
    "import random\n",
    "from sklearn.neighbors import KNeighborsRegressor\n",
    "from sklearn.metrics import mean_squared_error\n",
    "\n",
    "pop_size = 50\n",
    "num_generations = 30\n",
    "mutation_rate = 0.1\n",
    "\n",
    "\n",
    "population = [np.random.rand(x_train.shape[1]) for _ in range(pop_size)]\n",
    "\n",
    "def fitness(weights):\n",
    "    weighted_x_train = x_train * weights\n",
    "    weighted_x_test = x_test * weights\n",
    "    model = KNeighborsRegressor(n_neighbors=5)\n",
    "    model.fit(weighted_x_train, y_train)\n",
    "    y_pred = model.predict(weighted_x_test)\n",
    "    return -mean_squared_error(y_test, y_pred)\n",
    "\n",
    "def crossover(parent1, parent2):\n",
    "    point = random.randint(0, len(parent1) - 1)\n",
    "    return np.concatenate((parent1[:point], parent2[point:]))\n",
    "\n",
    "def mutate(weights):\n",
    "    if random.random() < mutation_rate:\n",
    "        idx = random.randint(0, len(weights) - 1)\n",
    "        weights[idx] = random.random()\n",
    "    return weights\n",
    "\n",
    "for _ in range(num_generations):\n",
    "    population = sorted(population, key=lambda x: fitness(x), reverse=True)\n",
    "    new_population = population[:10]  # Select top 10\n",
    "    for _ in range(pop_size - 10):\n",
    "        p1, p2 = random.sample(new_population, 2)\n",
    "        offspring = mutate(crossover(p1, p2))\n",
    "        new_population.append(offspring)\n",
    "    population = new_population\n",
    "\n",
    "best_weights = population[0]\n",
    "print(\"Optimized Weights:\", best_weights)"
   ]
  },
  {
   "cell_type": "code",
   "execution_count": null,
   "id": "332c04e2-3ff5-4295-9e9f-598debd99869",
   "metadata": {},
   "outputs": [],
   "source": []
  }
 ],
 "metadata": {
  "kernelspec": {
   "display_name": "Python 3 (ipykernel)",
   "language": "python",
   "name": "python3"
  },
  "language_info": {
   "codemirror_mode": {
    "name": "ipython",
    "version": 3
   },
   "file_extension": ".py",
   "mimetype": "text/x-python",
   "name": "python",
   "nbconvert_exporter": "python",
   "pygments_lexer": "ipython3",
   "version": "3.13.0"
  },
  "widgets": {
   "application/vnd.jupyter.widget-state+json": {
    "state": {},
    "version_major": 2,
    "version_minor": 0
   }
  }
 },
 "nbformat": 4,
 "nbformat_minor": 5
}
