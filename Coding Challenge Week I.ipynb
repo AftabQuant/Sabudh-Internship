{
 "cells": [
  {
   "cell_type": "markdown",
   "id": "f7efe812-f8f9-4939-81da-e1a325e85295",
   "metadata": {},
   "source": [
    "# P1: Read an integer N. For all non-negative integers i < N, print i^2."
   ]
  },
  {
   "cell_type": "code",
   "execution_count": 2,
   "id": "ca287121-9a1b-45fa-ac74-ee2f7a5dc188",
   "metadata": {},
   "outputs": [
    {
     "name": "stdin",
     "output_type": "stream",
     "text": [
      "Enter An Integer:  5\n"
     ]
    },
    {
     "name": "stdout",
     "output_type": "stream",
     "text": [
      "Square Of The Element in list: [0, 1, 4, 9, 16]\n"
     ]
    }
   ],
   "source": [
    "n = int(input(\"Enter An Integer: \"))\n",
    "list = []\n",
    "\n",
    "for i in range(n):\n",
    "    list.append(i**2)\n",
    "print(f'Square Of The Element in list: {list}')"
   ]
  },
  {
   "cell_type": "markdown",
   "id": "62afd30b-b1ae-4151-a7a3-06a518b6f51c",
   "metadata": {},
   "source": [
    "# P2: You have been given a string. You need to remove all the duplicates from the string. The nal output string should contain each character only once. The respective order of the characters inside the string should remain the same. You can traverse the string only once."
   ]
  },
  {
   "cell_type": "code",
   "execution_count": 3,
   "id": "f6cfa7f7-6754-4179-8527-015897579a0d",
   "metadata": {},
   "outputs": [
    {
     "name": "stdin",
     "output_type": "stream",
     "text": [
      "Enter a string :  abaabbbacd\n"
     ]
    },
    {
     "name": "stdout",
     "output_type": "stream",
     "text": [
      "String after removing duplicates: abcd\n"
     ]
    }
   ],
   "source": [
    "def remove_duplicate(word):\n",
    "    result = \"\"\n",
    "    for ch in word:\n",
    "        if ch not in result: \n",
    "            result+=ch\n",
    "    return result\n",
    "    \n",
    "word = input(\"Enter a string : \")\n",
    "print(f'String after removing duplicates: {remove_duplicate(word)}')"
   ]
  },
  {
   "cell_type": "markdown",
   "id": "31c57616-82fc-4fbd-8f53-d89104492a75",
   "metadata": {},
   "source": [
    "# P3: Write a program to display only those numbers from a list that satisfy the following conditions\n",
    "● The number must be divisible by five \n",
    "● If the number is greater than 150, then skip it and move to the next number\n",
    "● If the number is greater than 500, then stop the loop"
   ]
  },
  {
   "cell_type": "code",
   "execution_count": 4,
   "id": "549ca4e8-2022-4b70-9fa2-c051bd047606",
   "metadata": {},
   "outputs": [
    {
     "name": "stdin",
     "output_type": "stream",
     "text": [
      "Enter the length of the list :  7\n",
      " 12\n",
      " 75\n",
      " 150\n",
      " 180\n",
      " 145\n",
      " 525\n",
      " 50\n"
     ]
    },
    {
     "name": "stdout",
     "output_type": "stream",
     "text": [
      "My list is: [12, 75, 150, 180, 145, 525, 50]\n",
      "After filtering the list is : [75, 150, 145]\n"
     ]
    }
   ],
   "source": [
    "def display(list):\n",
    "    list2 = []\n",
    "    for ele in list:\n",
    "        if ele>500: break\n",
    "        if ele>150: continue\n",
    "        if ele%5==0: list2.append(ele)\n",
    "    print(list2)\n",
    "\n",
    "num = int(input(\"Enter the length of the list : \"))\n",
    "list = []\n",
    "for i in range(num):\n",
    "    value = int(input())\n",
    "    list.append(value)\n",
    "print(\"My list is:\", list)\n",
    "print(\"After filtering the list is :\", end = \" \")\n",
    "display(list)"
   ]
  },
  {
   "cell_type": "markdown",
   "id": "8c7ecb3d-22b5-41ec-bad2-b39207d0d6e2",
   "metadata": {},
   "source": [
    "# P4: Write a program to count the total number of digits in a number using a while loop"
   ]
  },
  {
   "cell_type": "code",
   "execution_count": 5,
   "id": "73f964fd-db6e-4664-bf9a-3092250cb1b1",
   "metadata": {},
   "outputs": [
    {
     "name": "stdin",
     "output_type": "stream",
     "text": [
      "Enter a number:  75869\n"
     ]
    },
    {
     "name": "stdout",
     "output_type": "stream",
     "text": [
      "Total digits of the number is: 5\n"
     ]
    }
   ],
   "source": [
    "def countDigit(num):\n",
    "    count = 0\n",
    "    while num>0 :\n",
    "        num = num//10\n",
    "        count +=1\n",
    "    return count\n",
    "    \n",
    "number = int(input(\"Enter a number: \"))\n",
    "print(f'Total digits of the number is: {countDigit(number)}')"
   ]
  },
  {
   "cell_type": "markdown",
   "id": "5ee4df16-5e41-40e9-abc2-d7d43de0dc00",
   "metadata": {},
   "source": [
    "# P5: Write a program to calculate the sum of series up to n term. For example, if n = 5the series will become 2 + 22 + 222 + 2222 + 22222 = 24690"
   ]
  },
  {
   "cell_type": "code",
   "execution_count": 6,
   "id": "5c8f8c6f-93f2-45e6-8d9d-54d61d0a820a",
   "metadata": {},
   "outputs": [
    {
     "name": "stdin",
     "output_type": "stream",
     "text": [
      "Enter the nth term:  5\n"
     ]
    },
    {
     "name": "stdout",
     "output_type": "stream",
     "text": [
      "The sum of the series is : 24690\n"
     ]
    }
   ],
   "source": [
    "def sumSeries(num) :\n",
    "    total = 0\n",
    "    value = 2\n",
    "    for i in range(1,num+1):\n",
    "        total += value\n",
    "        value = value*10 +2\n",
    "    return total\n",
    "    \n",
    "number = int(input(\"Enter the nth term: \"))\n",
    "print(f'The sum of the series is : {sumSeries(number)}')"
   ]
  },
  {
   "cell_type": "markdown",
   "id": "82de2943-5748-47d6-a23d-1007bf486886",
   "metadata": {},
   "source": [
    "# P6: Write a program to Reverse below given numbers without slicing"
   ]
  },
  {
   "cell_type": "code",
   "execution_count": 7,
   "id": "528bb4c4-7d0e-43de-ae3c-0cfeaad6d254",
   "metadata": {},
   "outputs": [
    {
     "name": "stdin",
     "output_type": "stream",
     "text": [
      "Enter a number:  745633\n"
     ]
    },
    {
     "name": "stdout",
     "output_type": "stream",
     "text": [
      "Total digits of the number is: 336547\n"
     ]
    }
   ],
   "source": [
    "def reverse(num):\n",
    "    rev = 0\n",
    "    while num > 0:\n",
    "        rem = num%10\n",
    "        num //=10\n",
    "        rev = rev*10 + rem\n",
    "    return rev\n",
    "    \n",
    "number = int(input(\"Enter a number: \"))\n",
    "print(f'Total digits of the number is: {reverse(number)}')"
   ]
  },
  {
   "cell_type": "markdown",
   "id": "423d9b6d-ee71-413c-ac0a-eef529348b17",
   "metadata": {},
   "source": [
    "# P7: Write a program to Use a loop to display elements from a given list present at odd index position"
   ]
  },
  {
   "cell_type": "code",
   "execution_count": 8,
   "id": "7f82cb74-c53e-4be9-b7b8-89cfc50ea376",
   "metadata": {},
   "outputs": [
    {
     "name": "stdin",
     "output_type": "stream",
     "text": [
      "Enter the length of the list :  10\n"
     ]
    },
    {
     "name": "stdout",
     "output_type": "stream",
     "text": [
      "Enter the element: \n"
     ]
    },
    {
     "name": "stdin",
     "output_type": "stream",
     "text": [
      " 1\n",
      " 2\n",
      " 3\n",
      " 4\n",
      " 5\n",
      " 6\n",
      " 7\n",
      " 8\n",
      " 9\n",
      " 10\n"
     ]
    },
    {
     "name": "stdout",
     "output_type": "stream",
     "text": [
      "Original list is: [1, 2, 3, 4, 5, 6, 7, 8, 9, 10]\n",
      "Odd index elements are: 2 4 6 8 10 "
     ]
    }
   ],
   "source": [
    "def oddPosition(list):\n",
    "    for i in range(len(list)):\n",
    "        if i%2 != 0: print(list[i], end=\" \")\n",
    "    \n",
    "num = int(input(\"Enter the length of the list : \"))\n",
    "list = []\n",
    "print(\"Enter the element: \")\n",
    "for i in range(num):\n",
    "    value = int(input())\n",
    "    list.append(value)\n",
    "print(\"Original list is:\", list)\n",
    "print(\"Odd index elements are:\", end=\" \")\n",
    "oddPosition(list)"
   ]
  },
  {
   "cell_type": "markdown",
   "id": "a75b7baf-7c18-4f62-9033-6f7962923865",
   "metadata": {},
   "source": [
    "# P8: Write a Python program to find the median of three values."
   ]
  },
  {
   "cell_type": "code",
   "execution_count": 9,
   "id": "a5101ca2-caad-4f3c-b2ae-efd007b06a82",
   "metadata": {},
   "outputs": [
    {
     "name": "stdin",
     "output_type": "stream",
     "text": [
      "Enter first number:  10\n",
      "Enter second number:  20\n",
      "Enter third number:  5\n"
     ]
    },
    {
     "name": "stdout",
     "output_type": "stream",
     "text": [
      "The median of 10, 20, and 5 is: 10\n"
     ]
    }
   ],
   "source": [
    "def median(num1, num2, num3):\n",
    "     values = [num1, num2, num3]\n",
    "     values.sort()\n",
    "     return values[1]\n",
    "\n",
    "num1 = int(input('Enter first number: '))\n",
    "num2 = int(input('Enter second number: '))\n",
    "num3 = int(input('Enter third number: '))\n",
    "print(f\"The median of {num1}, {num2}, and {num3} is: {median(num1, num2, num3)}\")"
   ]
  }
 ],
 "metadata": {
  "kernelspec": {
   "display_name": "Python 3 (ipykernel)",
   "language": "python",
   "name": "python3"
  },
  "language_info": {
   "codemirror_mode": {
    "name": "ipython",
    "version": 3
   },
   "file_extension": ".py",
   "mimetype": "text/x-python",
   "name": "python",
   "nbconvert_exporter": "python",
   "pygments_lexer": "ipython3",
   "version": "3.13.0"
  },
  "widgets": {
   "application/vnd.jupyter.widget-state+json": {
    "state": {},
    "version_major": 2,
    "version_minor": 0
   }
  }
 },
 "nbformat": 4,
 "nbformat_minor": 5
}
